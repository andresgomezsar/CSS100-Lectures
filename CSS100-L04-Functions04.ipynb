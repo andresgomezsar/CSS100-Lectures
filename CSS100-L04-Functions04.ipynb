{
 "cells": [
  {
   "cell_type": "markdown",
   "metadata": {
    "slideshow": {
     "slide_type": "slide"
    }
   },
   "source": [
    "# CSS 100\n",
    "\n",
    "## Advanced Programming for Computational Social Sciences\n",
    "\n",
    "### Lecture 04 - Functions 04"
   ]
  },
  {
   "cell_type": "markdown",
   "metadata": {
    "slideshow": {
     "slide_type": "slide"
    }
   },
   "source": [
    "## Announcements\n",
    "\n",
    "- I will take one hour from the TA. So, the first hour of the TA is going to be lecture.\n",
    "    + Not required to come! I will record it.\n",
    "    + Good compromise to make this class work with the content I want to cover."
   ]
  },
  {
   "cell_type": "markdown",
   "metadata": {
    "slideshow": {
     "slide_type": "slide"
    }
   },
   "source": [
    "## Functions\n",
    "\n",
    "We learned:\n",
    "\n",
    "- Scope, Passing Arguments, Configuring our DataHub, Recursive Functions, Functions as First-Class Objects.\n",
    "\n",
    "- Great work!\n",
    "\n",
    "Today's lecture:\n",
    "\n",
    "1. **Functions Annotations**\n",
    "\n",
    "2. **Benchmarking**\n",
    "\n",
    "3. **Anonymous Functions**\n",
    "\n",
    "4. **Context managers**\n",
    "\n",
    "5. **Functional Programming**"
   ]
  },
  {
   "cell_type": "markdown",
   "metadata": {
    "slideshow": {
     "slide_type": "slide"
    }
   },
   "source": [
    "## Functions Annotation\n",
    "\n",
    "- Does not change the function, but help organize\n",
    "\n",
    "- Example:"
   ]
  },
  {
   "cell_type": "code",
   "execution_count": null,
   "metadata": {
    "slideshow": {
     "slide_type": "fragment"
    }
   },
   "outputs": [],
   "source": [
    "## Default recursion limit\n",
    "def myshout(message: str) -> str:\n",
    "    return message.upper()\n",
    "\n",
    "myshout('CSS is great!')"
   ]
  },
  {
   "cell_type": "code",
   "execution_count": null,
   "metadata": {
    "slideshow": {
     "slide_type": "fragment"
    }
   },
   "outputs": [],
   "source": [
    "myshout.__annotations__"
   ]
  },
  {
   "cell_type": "markdown",
   "metadata": {
    "slideshow": {
     "slide_type": "slide"
    }
   },
   "source": [
    "## Benchmarking\n",
    "\n",
    "- Sometimes it is important to compute the running time of a function.\n",
    "\n",
    "- We can do this using **benchmarks**.\n",
    "\n",
    "- One example, is to use the library *time*:"
   ]
  },
  {
   "cell_type": "code",
   "execution_count": null,
   "metadata": {
    "slideshow": {
     "slide_type": "fragment"
    }
   },
   "outputs": [],
   "source": [
    "## Benchmarking\n",
    "import time\n",
    "def timer(func, *args):\n",
    "    start = time.time()\n",
    "    for i in range(1000): # Thousand calls for the same function\n",
    "        func(*args)\n",
    "    return time.time() - start"
   ]
  },
  {
   "cell_type": "code",
   "execution_count": null,
   "metadata": {
    "slideshow": {
     "slide_type": "fragment"
    }
   },
   "outputs": [],
   "source": [
    "timer(pow, 2, 1000)"
   ]
  },
  {
   "cell_type": "markdown",
   "metadata": {
    "slideshow": {
     "slide_type": "slide"
    }
   },
   "source": [
    "## Benchmarking\n",
    "\n",
    "- Sometimes it is important to compute the running time of a function.\n",
    "\n",
    "- We can do this using **benchmarks**.\n",
    "\n",
    "- One example, is to use the library *time*:"
   ]
  },
  {
   "cell_type": "code",
   "execution_count": null,
   "metadata": {
    "slideshow": {
     "slide_type": "fragment"
    }
   },
   "outputs": [],
   "source": [
    "## Benchmarking\n",
    "import time\n",
    "def timer(func, *args):\n",
    "    start = time.time()\n",
    "    for i in range(1000): # Thousand calls for the same function\n",
    "        func(*args)\n",
    "    return time.time() - start"
   ]
  },
  {
   "cell_type": "code",
   "execution_count": null,
   "metadata": {
    "slideshow": {
     "slide_type": "fragment"
    }
   },
   "outputs": [],
   "source": [
    "timer(pow, 2, 1000)"
   ]
  },
  {
   "cell_type": "markdown",
   "metadata": {
    "slideshow": {
     "slide_type": "slide"
    }
   },
   "source": [
    "## $\\lambda$ Functions\n",
    "\n",
    "- Lambda functions are functions that we can define on the fly.\n",
    "\n",
    "- Crucial to functional programming:\n",
    "    - Not all of our functions should be *public*\n",
    "    - Some of them can be *anonymous*\n",
    "\n",
    "- Check out this code:"
   ]
  },
  {
   "cell_type": "code",
   "execution_count": null,
   "metadata": {
    "slideshow": {
     "slide_type": "fragment"
    }
   },
   "outputs": [],
   "source": [
    "## Anonymous functions\n",
    "func = lambda x: x*2 if x % 2 == 0 else x ** 2\n",
    "print(func(2))\n",
    "print(func(3))"
   ]
  },
  {
   "cell_type": "code",
   "execution_count": null,
   "metadata": {
    "slideshow": {
     "slide_type": "slide"
    }
   },
   "outputs": [],
   "source": [
    "# Should all be DDMMYYYY but look at this here:\n",
    "birthdates = ['1012000', '10012000', '5031999']\n",
    "\n",
    "# To fix, use lambda functions! No need to fill up the memory with yet another object\n",
    "bd_fixed = [(lambda x: '0' + x if len(x)==7 else x)(x) for x in birthdates]"
   ]
  },
  {
   "cell_type": "code",
   "execution_count": null,
   "metadata": {
    "slideshow": {
     "slide_type": "fragment"
    }
   },
   "outputs": [],
   "source": [
    "# Nice!\n",
    "print(bd_fixed)"
   ]
  },
  {
   "cell_type": "markdown",
   "metadata": {
    "slideshow": {
     "slide_type": "slide"
    }
   },
   "source": [
    "## Context Managers\n",
    "\n",
    "- Sets up a context, runs code, removes context\n",
    "\n",
    "- Great for compartmentalize your coding without much structure\n",
    "\n",
    "- You already use it:\n",
    "\n",
    "```\n",
    "with open('somefile.txt') as f:\n",
    "    ...do-something...\n",
    "```\n",
    "\n",
    "- This is great because:\n",
    "    1. It sets up the context (open the file)\n",
    "    2. Do things you want to do (...do-smt...), and \n",
    "    3. **Closes the file without you needing to do so**."
   ]
  },
  {
   "cell_type": "markdown",
   "metadata": {
    "slideshow": {
     "slide_type": "slide"
    }
   },
   "source": [
    "## Context Managers\n",
    "\n",
    "How it works:\n",
    "\n",
    "1. Starts with `with \"some-context-managed-fnc(some-args):\"`\n",
    "2. Do the stuff in the indented part (indented means inside the context)\n",
    "3. Remove indentation to get out of the context.\n",
    "    - It eliminates the context-based variables without you need to care about it."
   ]
  },
  {
   "cell_type": "markdown",
   "metadata": {
    "slideshow": {
     "slide_type": "slide"
    }
   },
   "source": [
    "## Context Managers\n",
    "\n",
    "Defining context managers:\n",
    "\n",
    "```\n",
    "@contextlib.contextmanager\n",
    "def mycont():\n",
    "    # Some top code\n",
    "    yield # Yield some value, dataset, list, nothing, whatever...\n",
    "    # Some closing code \n",
    "```"
   ]
  },
  {
   "cell_type": "markdown",
   "metadata": {
    "slideshow": {
     "slide_type": "slide"
    }
   },
   "source": [
    "## Context Managers\n",
    "\n",
    "Example:\n",
    "\n",
    "```\n",
    "@contextlib.contextmanager\n",
    "def myopener(fname, waytoopen):\n",
    "    f = open(fname, mode = waytoopen)\n",
    "    yield f\n",
    "    f.close()\n",
    "```"
   ]
  },
  {
   "cell_type": "markdown",
   "metadata": {
    "slideshow": {
     "slide_type": "slide"
    }
   },
   "source": [
    "## Context Managers\n",
    "\n",
    "**Exercise**: Create a context manager that prints `Let's party!`, and yields `Loud music and tasty non-alcoholic drinks.` Then closes by printing `Awesome party, goodbye!!`."
   ]
  },
  {
   "cell_type": "code",
   "execution_count": null,
   "metadata": {
    "slideshow": {
     "slide_type": "fragment"
    }
   },
   "outputs": [],
   "source": [
    "import contextlib\n",
    "@contextlib.contextmanager\n",
    "def mycont():\n",
    "    # Some top code\n",
    "    yield # Yield some value, dataset, list, nothing, whatever...\n",
    "    # Some closing code "
   ]
  },
  {
   "cell_type": "markdown",
   "metadata": {
    "slideshow": {
     "slide_type": "slide"
    }
   },
   "source": [
    "## Context Managers\n",
    "\n",
    "Rules:\n",
    "\n",
    "- With the likelihood of sound like your mom, dad, or roommate:\n",
    "    1. If you *open*, *close*\n",
    "    2. If you *start*, *stop*\n",
    "    3. If you *connect*, *disconnect*\n",
    "    4. If you *initiate*, *finalize*\n",
    "    5. And so on."
   ]
  },
  {
   "cell_type": "markdown",
   "metadata": {
    "slideshow": {
     "slide_type": "slide"
    }
   },
   "source": [
    "## Context Managers\n",
    "\n",
    "Some more rules:\n",
    "\n",
    "- To handle errors, use the exception handlers inside your context:\n",
    "\n",
    "```\n",
    "try:\n",
    "    ## (part 1): Try the code out and go about it if all fine\n",
    "except:\n",
    "    ## (part 2): Handle some exceptions raised by (part 1).\n",
    "```\n",
    "\n",
    "Or, for some more sophisticated rules:\n",
    "    - [Errors and Exceptions](https://docs.python.org/3.5/tutorial/errors.html?highlight=handling%20err#errors-and-exceptions)\n",
    "    - You can even customize your context to handle specific errors!"
   ]
  },
  {
   "cell_type": "markdown",
   "metadata": {
    "slideshow": {
     "slide_type": "slide"
    }
   },
   "source": [
    "## Context Managers\n",
    "\n",
    "Example:"
   ]
  },
  {
   "cell_type": "code",
   "execution_count": null,
   "metadata": {
    "slideshow": {
     "slide_type": "fragment"
    }
   },
   "outputs": [],
   "source": [
    "@contextlib.contextmanager\n",
    "def mycont():\n",
    "    print('I will ask you for a number, add a number!')\n",
    "    x = input('Add a number: ')\n",
    "    try:\n",
    "        yield 10 + float(x)\n",
    "    except:\n",
    "        print('\\n\\tCome on, I asked for a number... Yielding 42!')\n",
    "        yield 42\n",
    "    print(\"That's all, folks!\")"
   ]
  },
  {
   "cell_type": "code",
   "execution_count": null,
   "metadata": {
    "slideshow": {
     "slide_type": "fragment"
    }
   },
   "outputs": [],
   "source": [
    "with mycont() as outp:\n",
    "    print('\\n\\tThe number yielded was {}'.format(outp), end = '\\n\\n')"
   ]
  },
  {
   "cell_type": "markdown",
   "metadata": {
    "slideshow": {
     "slide_type": "slide"
    }
   },
   "source": [
    "## Functional Programming\n",
    "\n",
    "- Different from *procedural programming*, focus on functions as first-class objects.\n",
    "\n",
    "- The main rules are:\n",
    "\n",
    "1. *What* you want to do is more important than *how* you are going to do it.\n",
    "2. Recursion substitutes loops\n",
    "3. Focus on list processing\n",
    "4. No side-effects (pure) or minimal side-effects. \n",
    "    + One implication: we do not like printing stuff on the screen (whaaat?!)\n",
    "5. No statements: Always use functions!\n",
    "6. Higher-order functions: functions that operate on other functions."
   ]
  },
  {
   "cell_type": "markdown",
   "metadata": {
    "slideshow": {
     "slide_type": "slide"
    }
   },
   "source": [
    "## Functional Programming\n",
    "\n",
    "- Python is not an entirely FP language. But it has good functionalities for doing FP.\n",
    "\n",
    "- We will also use a few other packages, such as `itertools` and `functools`.\n",
    "\n",
    "- Let's talk definitions before we start."
   ]
  },
  {
   "cell_type": "markdown",
   "metadata": {
    "slideshow": {
     "slide_type": "slide"
    }
   },
   "source": [
    "## Functional Programming\n",
    "\n",
    "**[Lazy Evaluation](https://en.wikipedia.org/wiki/Lazy_evaluation)**:\n",
    "\n",
    "- **Definition:** Evaluation strategy that:\n",
    "    1. Delays evaluation until its values are needed\n",
    "    2. Avoid repeated evaluations\n",
    "    \n",
    "- Mig wisdom: *Only do what you need to, and only get what you need to be done when you need it to be done.* (gosh, this looks bad...)\n",
    "\n",
    "- Why might this be good?"
   ]
  },
  {
   "cell_type": "markdown",
   "metadata": {
    "slideshow": {
     "slide_type": "slide"
    }
   },
   "source": [
    "## Functional Programming\n",
    "\n",
    "- Example (repeated un-needed evals):\n",
    "\n",
    "```\n",
    "if num > 1 and num < 2:\n",
    "    do smt\n",
    "```\n",
    "\n",
    "- If num = -1, a lazy program would make the first comparison and stop.\n",
    "\n",
    "- In contrast, an *eager program* would make the **first and the second comparison**, and only then stop.\n",
    "\n",
    "- PF allows for laziness. And lazy in this context is good."
   ]
  },
  {
   "cell_type": "markdown",
   "metadata": {
    "slideshow": {
     "slide_type": "slide"
    }
   },
   "source": [
    "## Functional Programming\n",
    "\n",
    "- Example (delay evals):\n",
    "\n",
    "```\n",
    "y = f(x)\n",
    "\n",
    "z = g(w)\n",
    "\n",
    "solution = h(x, z)\n",
    "```\n",
    "\n",
    "- A lazy evaluation only computes $x$ and $z$ when $h(.)$ asks for them!\n",
    "\n",
    "- In contrast, an *eager program* would compute $y$ and $z$ right away.\n",
    "\n",
    "- PF allows for laziness. And lazy in this context is also good."
   ]
  },
  {
   "cell_type": "markdown",
   "metadata": {
    "slideshow": {
     "slide_type": "slide"
    }
   },
   "source": [
    "## Functional Programming\n",
    "\n",
    "**[Side-Effects](https://en.wikipedia.org/wiki/Side_effect_(computer_science))**:\n",
    "\n",
    "- **Definition**: *Side-effects refer to changes in some state variable outside the local operation space.*\n",
    "\n",
    "- Your functions should **never** (or almost as possible) have side effects.\n",
    "\n",
    "- Why might this be helpful?"
   ]
  },
  {
   "cell_type": "markdown",
   "metadata": {
    "slideshow": {
     "slide_type": "slide"
    }
   },
   "source": [
    "## Functional Programming\n",
    "\n",
    "- Examples:\n",
    "\n",
    "```\n",
    "def funct1(x):\n",
    "    y = input('Enter an integer: ')\n",
    "    return x + int(y)\n",
    "```\n",
    "\n",
    "- Side-effect: Needs something from the user.\n",
    "\n",
    "- Why is this bad? Think a bit about it..."
   ]
  },
  {
   "cell_type": "markdown",
   "metadata": {
    "slideshow": {
     "slide_type": "slide"
    }
   },
   "source": [
    "## Functional Programming\n",
    "\n",
    "- Examples:\n",
    "\n",
    "```\n",
    "y = 10\n",
    "def funct2(x):\n",
    "    return x + y\n",
    "```\n",
    "\n",
    "- Side-effect: Uses something outside its scope.\n",
    "\n",
    "- Why is this bad? Think a bit about it..."
   ]
  },
  {
   "cell_type": "markdown",
   "metadata": {
    "slideshow": {
     "slide_type": "slide"
    }
   },
   "source": [
    "## Functional Programming\n",
    "\n",
    "**Exercise** Create a program that asks the user for two values and sums them. You can use multiple functions, but they should have no side-effects."
   ]
  },
  {
   "cell_type": "code",
   "execution_count": null,
   "metadata": {
    "slideshow": {
     "slide_type": "fragment"
    }
   },
   "outputs": [],
   "source": [
    "# Code here"
   ]
  },
  {
   "cell_type": "markdown",
   "metadata": {
    "slideshow": {
     "slide_type": "slide"
    }
   },
   "source": [
    "## Functional Programming\n",
    "\n",
    "- When there are no side-effects, we have effective *encapsulation*.\n",
    "\n",
    "- *Encapsulation* compartmentalizes your code in a way that makes it predictable and reliable.\n",
    "\n",
    "\n",
    "### **Lazy Evals + No Side-Effects + Encapsulation = Less Debugging!**\n",
    "\n",
    "- More efficient code\n",
    "- More reliable code\n",
    "- Easy to fix code\n",
    "- Focus shifts to what needs to be done!"
   ]
  },
  {
   "cell_type": "markdown",
   "metadata": {
    "slideshow": {
     "slide_type": "slide"
    }
   },
   "source": [
    "## Next class\n",
    "\n",
    "- Some more Functional Programming!"
   ]
  },
  {
   "cell_type": "markdown",
   "metadata": {
    "slideshow": {
     "slide_type": "slide"
    }
   },
   "source": [
    "## Questions?"
   ]
  },
  {
   "cell_type": "markdown",
   "metadata": {
    "slideshow": {
     "slide_type": "slide"
    }
   },
   "source": [
    "## See you in the next class!"
   ]
  }
 ],
 "metadata": {
  "kernelspec": {
   "display_name": "Python 3 (ipykernel)",
   "language": "python",
   "name": "python3"
  },
  "language_info": {
   "codemirror_mode": {
    "name": "ipython",
    "version": 3
   },
   "file_extension": ".py",
   "mimetype": "text/x-python",
   "name": "python",
   "nbconvert_exporter": "python",
   "pygments_lexer": "ipython3",
   "version": "3.9.5"
  }
 },
 "nbformat": 4,
 "nbformat_minor": 4
}
